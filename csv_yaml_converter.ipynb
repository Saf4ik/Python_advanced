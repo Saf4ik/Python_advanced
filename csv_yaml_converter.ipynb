{
 "cells": [
  {
   "cell_type": "code",
   "execution_count": 67,
   "metadata": {},
   "outputs": [
    {
     "name": "stdout",
     "output_type": "stream",
     "text": [
      "Enter file's path: data/write.csv\n",
      "Save as: from_csv.yaml\n",
      "from_csv.yaml created\n"
     ]
    }
   ],
   "source": [
    "# task_2\n",
    "\n",
    "import yaml\n",
    "import csv\n",
    "\n",
    "\n",
    "def csv_yaml_converter(file_csv):\n",
    "    DATA = dict()\n",
    "    with open(file_csv, 'r') as file:\n",
    "        reader = csv.DictReader(file)\n",
    "        for row in reader:\n",
    "            for word in row:\n",
    "                if word not in DATA:\n",
    "                    DATA[word] = [row[word]]\n",
    "                else:\n",
    "                    DATA[word].append(row[word])\n",
    "    \n",
    "    write = input('Save as: ')\n",
    "    with open( f'data/lesson_2/{write}', 'w') as file:\n",
    "        yaml.dump(DATA, file, Dumper=yaml.Dumper)\n",
    "    print(f'{write} created')\n",
    "    \n",
    "\n",
    "file_csv = input(\"Enter file's path: \")\n",
    "csv_yaml_converter(file_csv)"
   ]
  },
  {
   "cell_type": "code",
   "execution_count": 60,
   "metadata": {},
   "outputs": [
    {
     "data": {
      "text/plain": [
       "{'header1': ['data1',\n",
       "  'data1',\n",
       "  'data1',\n",
       "  'data1',\n",
       "  'data1',\n",
       "  'data1',\n",
       "  'data1',\n",
       "  'data1'],\n",
       " 'header2': ['data2',\n",
       "  'data2',\n",
       "  'data2',\n",
       "  'data2',\n",
       "  'data2',\n",
       "  'data2',\n",
       "  'data2',\n",
       "  'data2'],\n",
       " 'header3': ['data3',\n",
       "  'data3',\n",
       "  'data3',\n",
       "  'data3',\n",
       "  'data3',\n",
       "  'data3',\n",
       "  'data3',\n",
       "  'data3'],\n",
       " 'header4': ['data4',\n",
       "  'data4',\n",
       "  'data4',\n",
       "  'data4',\n",
       "  'data4',\n",
       "  'data4',\n",
       "  'data4',\n",
       "  'data4']}"
      ]
     },
     "execution_count": 60,
     "metadata": {},
     "output_type": "execute_result"
    }
   ],
   "source": [
    "'''\n",
    "    Не знаю как привести данные из csv в вид пригодный для yaml-формата\n",
    "'''\n",
    "\n",
    "import yaml\n",
    "import csv\n",
    "DATA = dict()\n",
    "with open('data/write.csv', 'r') as file:\n",
    "        reader = csv.DictReader(file)\n",
    "        for row in reader:\n",
    "            for word in row:\n",
    "                if word not in DATA:\n",
    "                    DATA[word] = [row[word]]\n",
    "                else:\n",
    "                    DATA[word].append(row[word])\n",
    "                \n",
    "\n",
    "\n",
    "DATA"
   ]
  },
  {
   "cell_type": "code",
   "execution_count": null,
   "metadata": {},
   "outputs": [],
   "source": []
  }
 ],
 "metadata": {
  "kernelspec": {
   "display_name": "Python 3",
   "language": "python",
   "name": "python3"
  },
  "language_info": {
   "codemirror_mode": {
    "name": "ipython",
    "version": 3
   },
   "file_extension": ".py",
   "mimetype": "text/x-python",
   "name": "python",
   "nbconvert_exporter": "python",
   "pygments_lexer": "ipython3",
   "version": "3.7.0"
  }
 },
 "nbformat": 4,
 "nbformat_minor": 2
}
