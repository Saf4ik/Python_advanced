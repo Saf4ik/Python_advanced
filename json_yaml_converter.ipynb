{
 "cells": [
  {
   "cell_type": "code",
   "execution_count": 29,
   "metadata": {},
   "outputs": [
    {
     "name": "stdout",
     "output_type": "stream",
     "text": [
      "Enter file's path: data/write.json\n",
      "Save as: from_json.yaml\n",
      "from_json.yaml created\n"
     ]
    }
   ],
   "source": [
    "import yaml\n",
    "import json\n",
    "\n",
    "\n",
    "\n",
    "def json_yaml_converter(file_json):\n",
    "    with open(file_json,'r') as file:\n",
    "        DATA = json.load(file)\n",
    "    DATA_1 = {}\n",
    "    for dict in DATA:\n",
    "        for row in dict:\n",
    "            if row not in DATA_1:\n",
    "                DATA_1[row] = [dict[row]]\n",
    "            else:\n",
    "                DATA_1[row].append(dict[row])\n",
    "    write = input('Save as: ')\n",
    "    with open( f'data/lesson_2/{write}', 'w') as file:\n",
    "        yaml.dump(DATA_1, file, Dumper=yaml.Dumper)\n",
    "    print(f'{write} created')\n",
    "    \n",
    "\n",
    "file_json = input(\"Enter file's path: \")\n",
    "json_yaml_converter(file_json)"
   ]
  },
  {
   "cell_type": "code",
   "execution_count": 10,
   "metadata": {},
   "outputs": [
    {
     "data": {
      "text/plain": [
       "[{'header1': 'data1',\n",
       "  'header2': 'data2',\n",
       "  'header3': 'data3',\n",
       "  'header4': 'data4'},\n",
       " {'header1': 'data1',\n",
       "  'header2': 'data2',\n",
       "  'header3': 'data3',\n",
       "  'header4': 'data4'},\n",
       " {'header1': 'data1',\n",
       "  'header2': 'data2',\n",
       "  'header3': 'data3',\n",
       "  'header4': 'data4'},\n",
       " {'header1': 'data1',\n",
       "  'header2': 'data2',\n",
       "  'header3': 'data3',\n",
       "  'header4': 'data4'},\n",
       " {'header1': 'data1',\n",
       "  'header2': 'data2',\n",
       "  'header3': 'data3',\n",
       "  'header4': 'data4'},\n",
       " {'header1': 'data1',\n",
       "  'header2': 'data2',\n",
       "  'header3': 'data3',\n",
       "  'header4': 'data4'},\n",
       " {'header1': 'data1',\n",
       "  'header2': 'data2',\n",
       "  'header3': 'data3',\n",
       "  'header4': 'data4'},\n",
       " {'header1': 'data1',\n",
       "  'header2': 'data2',\n",
       "  'header3': 'data3',\n",
       "  'header4': 'data4'},\n",
       " {'header1': 'data1',\n",
       "  'header2': 'data2',\n",
       "  'header3': 'data3',\n",
       "  'header4': 'data4'}]"
      ]
     },
     "execution_count": 10,
     "metadata": {},
     "output_type": "execute_result"
    }
   ],
   "source": [
    "import json\n",
    "from pprint import pprint\n",
    "import yaml\n",
    "\n",
    "\n",
    "\n",
    "with open('data/read.json') as file:\n",
    "    DATA = json.load(file)\n",
    "DATA_1 = {}\n",
    "for dict in DATA:\n",
    "    for row in dict:\n",
    "        print(row, dict[row])\n",
    "        if row not in DATA_1:\n",
    "            DATA_1[row] = [dict[row]]\n",
    "        else:\n",
    "            DATA_1[row].append(dict[row])\n",
    "write = input('Save as: ')\n",
    "with open( f'data/lesson_2/{write}', 'w') as file:\n",
    "    yaml.dump(DATA, file, Dumper=yaml.Dumper)\n",
    "print(f'{write} created')"
   ]
  },
  {
   "cell_type": "code",
   "execution_count": 25,
   "metadata": {},
   "outputs": [
    {
     "name": "stdout",
     "output_type": "stream",
     "text": [
      "header1 data1\n",
      "header2 data2\n",
      "header3 data3\n",
      "header4 data4\n",
      "header1 data1\n",
      "header2 data2\n",
      "header3 data3\n",
      "header4 data4\n",
      "header1 data1\n",
      "header2 data2\n",
      "header3 data3\n",
      "header4 data4\n",
      "header1 data1\n",
      "header2 data2\n",
      "header3 data3\n",
      "header4 data4\n",
      "header1 data1\n",
      "header2 data2\n",
      "header3 data3\n",
      "header4 data4\n",
      "header1 data1\n",
      "header2 data2\n",
      "header3 data3\n",
      "header4 data4\n",
      "header1 data1\n",
      "header2 data2\n",
      "header3 data3\n",
      "header4 data4\n",
      "header1 data1\n",
      "header2 data2\n",
      "header3 data3\n",
      "header4 data4\n",
      "header1 data1\n",
      "header2 data2\n",
      "header3 data3\n",
      "header4 data4\n"
     ]
    },
    {
     "data": {
      "text/plain": [
       "{'header1': ['data1',\n",
       "  'data1',\n",
       "  'data1',\n",
       "  'data1',\n",
       "  'data1',\n",
       "  'data1',\n",
       "  'data1',\n",
       "  'data1',\n",
       "  'data1'],\n",
       " 'header2': ['data2',\n",
       "  'data2',\n",
       "  'data2',\n",
       "  'data2',\n",
       "  'data2',\n",
       "  'data2',\n",
       "  'data2',\n",
       "  'data2',\n",
       "  'data2'],\n",
       " 'header3': ['data3',\n",
       "  'data3',\n",
       "  'data3',\n",
       "  'data3',\n",
       "  'data3',\n",
       "  'data3',\n",
       "  'data3',\n",
       "  'data3',\n",
       "  'data3'],\n",
       " 'header4': ['data4',\n",
       "  'data4',\n",
       "  'data4',\n",
       "  'data4',\n",
       "  'data4',\n",
       "  'data4',\n",
       "  'data4',\n",
       "  'data4',\n",
       "  'data4']}"
      ]
     },
     "execution_count": 25,
     "metadata": {},
     "output_type": "execute_result"
    }
   ],
   "source": [
    "DATA_1 = {}\n",
    "for dict in DATA:\n",
    "    for row in dict:\n",
    "        print(row, dict[row])\n",
    "        if row not in DATA_1:\n",
    "            DATA_1[row] = [dict[row]]\n",
    "        else:\n",
    "            DATA_1[row].append(dict[row])\n",
    "DATA_1"
   ]
  },
  {
   "cell_type": "code",
   "execution_count": null,
   "metadata": {},
   "outputs": [],
   "source": []
  }
 ],
 "metadata": {
  "kernelspec": {
   "display_name": "Python 3",
   "language": "python",
   "name": "python3"
  },
  "language_info": {
   "codemirror_mode": {
    "name": "ipython",
    "version": 3
   },
   "file_extension": ".py",
   "mimetype": "text/x-python",
   "name": "python",
   "nbconvert_exporter": "python",
   "pygments_lexer": "ipython3",
   "version": "3.7.0"
  }
 },
 "nbformat": 4,
 "nbformat_minor": 2
}
