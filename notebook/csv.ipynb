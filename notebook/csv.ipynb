{
 "cells": [
  {
   "cell_type": "code",
   "execution_count": 2,
   "metadata": {},
   "outputs": [
    {
     "data": {
      "text/plain": [
       "'\\nheader1,header2,header3,header4,\\ndata1,data2,data3,data4\\ndata1,data2,data3,data4\\ndata1,data2,data3,data4\\ndata1,data2,data3,data4\\ndata1,data2,data3,data4\\ndata1,data2,data3,data4\\ndata1,data2,data3,data4\\ndata1,data2,data3,data4\\n'"
      ]
     },
     "execution_count": 2,
     "metadata": {},
     "output_type": "execute_result"
    }
   ],
   "source": [
    "'''\n",
    "header1,header2,header3,header4\n",
    "data1,data2,data3,data4\n",
    "data1,data2,data3,data4\n",
    "data1,data2,data3,data4\n",
    "data1,data2,data3,data4\n",
    "data1,data2,data3,data4\n",
    "data1,data2,data3,data4\n",
    "data1,data2,data3,data4\n",
    "data1,data2,data3,data4\n",
    "'''"
   ]
  },
  {
   "cell_type": "code",
   "execution_count": 3,
   "metadata": {
    "scrolled": false
   },
   "outputs": [
    {
     "name": "stdout",
     "output_type": "stream",
     "text": [
      "['header1', 'header2', 'header3', 'header4']\n",
      "['data1', 'data2', 'data3', 'data4']\n",
      "['data1', 'data2', 'data3', 'data4']\n",
      "['data1', 'data2', 'data3', 'data4']\n",
      "['data1', 'data2', 'data3', 'data4']\n",
      "['data1', 'data2', 'data3', 'data4']\n",
      "['data1', 'data2', 'data3', 'data4']\n",
      "['data1', 'data2', 'data3', 'data4']\n",
      "['data1', 'data2', 'data3', 'data4']\n"
     ]
    }
   ],
   "source": [
    "import csv\n",
    "\n",
    "with open('data/read.csv') as file:\n",
    "    reader = csv.reader(file)\n",
    "    for row in reader:\n",
    "        print(row)"
   ]
  },
  {
   "cell_type": "code",
   "execution_count": 12,
   "metadata": {
    "scrolled": true
   },
   "outputs": [
    {
     "name": "stdout",
     "output_type": "stream",
     "text": [
      "OrderedDict([('header1', 'data1'), ('header2', 'data2'), ('header3', 'data3'), ('header4', 'data4')])\n",
      "OrderedDict([('header1', 'data1'), ('header2', 'data2'), ('header3', 'data3'), ('header4', 'data4')])\n",
      "OrderedDict([('header1', 'data1'), ('header2', 'data2'), ('header3', 'data3'), ('header4', 'data4')])\n",
      "OrderedDict([('header1', 'data1'), ('header2', 'data2'), ('header3', 'data3'), ('header4', 'data4')])\n",
      "OrderedDict([('header1', 'data1'), ('header2', 'data2'), ('header3', 'data3'), ('header4', 'data4')])\n",
      "OrderedDict([('header1', 'data1'), ('header2', 'data2'), ('header3', 'data3'), ('header4', 'data4')])\n",
      "OrderedDict([('header1', 'data1'), ('header2', 'data2'), ('header3', 'data3'), ('header4', 'data4')])\n",
      "OrderedDict([('header1', 'data1'), ('header2', 'data2'), ('header3', 'data3'), ('header4', 'data4')])\n"
     ]
    }
   ],
   "source": [
    "import csv\n",
    "\n",
    "with open('data/read.csv') as file:\n",
    "    reader = csv.DictReader(file)\n",
    "    for row in reader:\n",
    "        print(row)"
   ]
  },
  {
   "cell_type": "code",
   "execution_count": 11,
   "metadata": {},
   "outputs": [],
   "source": [
    "import csv\n",
    "\n",
    "DATA = [\n",
    "    {'header1':'data1', 'header2':'data2', 'header3':'data3', 'header4':'data4'},\n",
    "    {'header1':'data1', 'header2':'data2', 'header3':'data3', 'header4':'data4'},\n",
    "    {'header1':'data1', 'header2':'data2', 'header3':'data3', 'header4':'data4'},\n",
    "    {'header1':'data1', 'header2':'data2', 'header3':'data3', 'header4':'data4'},\n",
    "    {'header1':'data1', 'header2':'data2', 'header3':'data3', 'header4':'data4'},\n",
    "    {'header1':'data1', 'header2':'data2', 'header3':'data3', 'header4':'data4'},\n",
    "    {'header1':'data1', 'header2':'data2', 'header3':'data3', 'header4':'data4'},\n",
    "    {'header1':'data1', 'header2':'data2', 'header3':'data3', 'header4':'data4'}\n",
    "]\n",
    "\n",
    "headers = ('header1', 'header2', 'header3','header4')\n",
    "\n",
    "with open('data/write.csv', 'w') as file:\n",
    "    writer = csv.DictWriter(file, fieldnames=headers)\n",
    "    writer.writeheader()\n",
    "    for row in DATA:\n",
    "        writer.writerow(row)"
   ]
  },
  {
   "cell_type": "code",
   "execution_count": null,
   "metadata": {},
   "outputs": [],
   "source": []
  }
 ],
 "metadata": {
  "kernelspec": {
   "display_name": "Python 3",
   "language": "python",
   "name": "python3"
  },
  "language_info": {
   "codemirror_mode": {
    "name": "ipython",
    "version": 3
   },
   "file_extension": ".py",
   "mimetype": "text/x-python",
   "name": "python",
   "nbconvert_exporter": "python",
   "pygments_lexer": "ipython3",
   "version": "3.7.0"
  }
 },
 "nbformat": 4,
 "nbformat_minor": 2
}
