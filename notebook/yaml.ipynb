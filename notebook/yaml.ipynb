{
 "cells": [
  {
   "cell_type": "code",
   "execution_count": null,
   "metadata": {},
   "outputs": [],
   "source": [
    "'''\n",
    "attr1: 'value1'\n",
    "attr2: 'value2'\n",
    "attr3: 'value3'\n",
    "attr4: \n",
    "    - 'value1'\n",
    "    - 'value2'\n",
    "    - 'value3'\n",
    "'''\n"
   ]
  },
  {
   "cell_type": "code",
   "execution_count": 1,
   "metadata": {},
   "outputs": [
    {
     "name": "stdout",
     "output_type": "stream",
     "text": [
      "{'attr1': 'value1',\n",
      " 'attr2': 'value2',\n",
      " 'attr3': 'value3',\n",
      " 'attr4': ['value1', 'value2', 'value3']}\n"
     ]
    }
   ],
   "source": [
    "import yaml\n",
    "from pprint import pprint\n",
    "\n",
    "with open('data/read.yaml') as file:\n",
    "    data = yaml.load(file, Loader=yaml.Loader)\n",
    "    pprint(data)"
   ]
  },
  {
   "cell_type": "code",
   "execution_count": 3,
   "metadata": {},
   "outputs": [],
   "source": [
    "import yaml\n",
    "from pprint import pprint\n",
    "\n",
    "DATA = {\n",
    "    'attr1': 'value1',\n",
    "    'attr2': 'value2',\n",
    "    'attr3': 'value3',\n",
    "    'attr4': ['value1', 'value2', 'value3']\n",
    "}\n",
    "\n",
    "with open('data/write.yaml', 'w') as file:\n",
    "    yaml.dump(DATA, file, Dumper=yaml.Dumper)"
   ]
  },
  {
   "cell_type": "code",
   "execution_count": null,
   "metadata": {},
   "outputs": [],
   "source": []
  }
 ],
 "metadata": {
  "kernelspec": {
   "display_name": "Python 3",
   "language": "python",
   "name": "python3"
  },
  "language_info": {
   "codemirror_mode": {
    "name": "ipython",
    "version": 3
   },
   "file_extension": ".py",
   "mimetype": "text/x-python",
   "name": "python",
   "nbconvert_exporter": "python",
   "pygments_lexer": "ipython3",
   "version": "3.7.0"
  }
 },
 "nbformat": 4,
 "nbformat_minor": 2
}
