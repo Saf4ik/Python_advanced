{
 "cells": [
  {
   "cell_type": "code",
   "execution_count": 12,
   "metadata": {},
   "outputs": [
    {
     "data": {
      "text/plain": [
       "('string', 'string_2')"
      ]
     },
     "execution_count": 12,
     "metadata": {},
     "output_type": "execute_result"
    }
   ],
   "source": [
    "'string', \"string_2\"\n"
   ]
  },
  {
   "cell_type": "code",
   "execution_count": 16,
   "metadata": {},
   "outputs": [
    {
     "data": {
      "text/plain": [
       "'\\n\"string\"\\n'"
      ]
     },
     "execution_count": 16,
     "metadata": {},
     "output_type": "execute_result"
    }
   ],
   "source": [
    "'''\n",
    "\"string\"\n",
    "'''"
   ]
  },
  {
   "cell_type": "code",
   "execution_count": 20,
   "metadata": {},
   "outputs": [
    {
     "data": {
      "text/plain": [
       "'\"string\"'"
      ]
     },
     "execution_count": 20,
     "metadata": {},
     "output_type": "execute_result"
    }
   ],
   "source": [
    "r'\"string\"'"
   ]
  },
  {
   "cell_type": "code",
   "execution_count": 25,
   "metadata": {},
   "outputs": [
    {
     "data": {
      "text/plain": [
       "bytes"
      ]
     },
     "execution_count": 25,
     "metadata": {},
     "output_type": "execute_result"
    }
   ],
   "source": [
    "a = b'String'\n",
    "type(a)"
   ]
  },
  {
   "cell_type": "code",
   "execution_count": 27,
   "metadata": {},
   "outputs": [
    {
     "data": {
      "text/plain": [
       "str"
      ]
     },
     "execution_count": 27,
     "metadata": {},
     "output_type": "execute_result"
    }
   ],
   "source": [
    "type('\"string\"')"
   ]
  },
  {
   "cell_type": "code",
   "execution_count": 29,
   "metadata": {},
   "outputs": [
    {
     "data": {
      "text/plain": [
       "b'string'"
      ]
     },
     "execution_count": 29,
     "metadata": {},
     "output_type": "execute_result"
    }
   ],
   "source": [
    "data = \"string\"\n",
    "data.encode()"
   ]
  },
  {
   "cell_type": "code",
   "execution_count": 35,
   "metadata": {},
   "outputs": [
    {
     "data": {
      "text/plain": [
       "'string'"
      ]
     },
     "execution_count": 35,
     "metadata": {},
     "output_type": "execute_result"
    }
   ],
   "source": [
    "bdata = b'string'\n",
    "bdata.decode()"
   ]
  },
  {
   "cell_type": "code",
   "execution_count": 37,
   "metadata": {},
   "outputs": [
    {
     "data": {
      "text/plain": [
       "b'\\xd1\\x81\\xd1\\x82\\xd1\\x80\\xd0\\xbe\\xd0\\xba\\xd0\\xb0'"
      ]
     },
     "execution_count": 37,
     "metadata": {},
     "output_type": "execute_result"
    }
   ],
   "source": [
    "data = 'строка'\n",
    "data.encode()"
   ]
  },
  {
   "cell_type": "code",
   "execution_count": 40,
   "metadata": {},
   "outputs": [
    {
     "data": {
      "text/plain": [
       "'Ñ\\x81Ñ\\x82Ñ\\x80Ð¾ÐºÐ°'"
      ]
     },
     "execution_count": 40,
     "metadata": {},
     "output_type": "execute_result"
    }
   ],
   "source": [
    "data = 'строка'\n",
    "bdata = data.encode('utf-8')\n",
    "bdata.decode('latin-1')"
   ]
  },
  {
   "cell_type": "code",
   "execution_count": 41,
   "metadata": {},
   "outputs": [],
   "source": [
    "class Sample:\n",
    "    def __init__(self, name, age):\n",
    "        self._name = name\n",
    "        self._age = age\n",
    "    \n",
    "    @property\n",
    "    def name(self):\n",
    "        return self._name\n",
    "    \n",
    "    @property\n",
    "    def age(self):\n",
    "        return self._age\n",
    "    \n",
    "    def __str__(self):\n",
    "        return f'{self._name} {self._age}'\n",
    "    \n",
    "    "
   ]
  },
  {
   "cell_type": "code",
   "execution_count": 46,
   "metadata": {},
   "outputs": [
    {
     "data": {
      "text/plain": [
       "<__main__.Sample at 0x44ed670>"
      ]
     },
     "execution_count": 46,
     "metadata": {},
     "output_type": "execute_result"
    }
   ],
   "source": [
    "import pickle\n",
    "\n",
    "sample = Sample('text', 26)\n",
    "\n",
    "bsample = pickle.dumps(sample)\n",
    "\n",
    "pickle.loads(bsample)\n",
    "\n",
    "\n"
   ]
  },
  {
   "cell_type": "code",
   "execution_count": 47,
   "metadata": {},
   "outputs": [],
   "source": [
    "\n",
    "\n",
    "class UnsafeSample(Sample):\n",
    "    def __reduce__(self):\n",
    "        print('rm rf')\n",
    "        return super(UnsafeSample, self).__reduce__()"
   ]
  },
  {
   "cell_type": "code",
   "execution_count": 49,
   "metadata": {},
   "outputs": [
    {
     "name": "stdout",
     "output_type": "stream",
     "text": [
      "rm rf\n"
     ]
    },
    {
     "data": {
      "text/plain": [
       "b'\\x80\\x03ccopyreg\\n_reconstructor\\nq\\x00c__main__\\nUnsafeSample\\nq\\x01cbuiltins\\nobject\\nq\\x02N\\x87q\\x03Rq\\x04}q\\x05(X\\x05\\x00\\x00\\x00_nameq\\x06X\\x04\\x00\\x00\\x00textq\\x07X\\x04\\x00\\x00\\x00_ageq\\x08K\\x1aub.'"
      ]
     },
     "execution_count": 49,
     "metadata": {},
     "output_type": "execute_result"
    }
   ],
   "source": [
    "import pickle\n",
    "\n",
    "sample = UnsafeSample('text', 26)\n",
    "\n",
    "pickle.dumps(sample)\n"
   ]
  },
  {
   "cell_type": "code",
   "execution_count": 3,
   "metadata": {},
   "outputs": [
    {
     "data": {
      "text/plain": [
       "{'encoding': 'utf-8', 'confidence': 0.99, 'language': ''}"
      ]
     },
     "execution_count": 3,
     "metadata": {},
     "output_type": "execute_result"
    }
   ],
   "source": [
    "import chardet\n",
    "\n",
    "# bdata = b'Ñ\\x81Ñ\\x82Ñ\\x80Ð¾ÐºÐ°'\n",
    "bdata_1 = b'\\xd1\\x81\\xd1\\x82\\xd1\\x80\\xd0\\xbe\\xd0\\xba\\xd0\\xb0'\n",
    "# bdata = b'Ñ\\x81Ñ\\x82Ñ\\x80Ð¾ÐºÐ°'\n",
    "chardet.detect(bdata_1)\n",
    "\n"
   ]
  },
  {
   "cell_type": "code",
   "execution_count": 20,
   "metadata": {},
   "outputs": [
    {
     "name": "stdout",
     "output_type": "stream",
     "text": [
      "разработка <class 'str'>\n",
      "сокет <class 'str'>\n",
      "декоратор <class 'str'>\n"
     ]
    }
   ],
   "source": [
    "# task_1\n",
    "words = ['разработка', 'сокет', 'декоратор']\n",
    "for word in words:\n",
    "    print(word, type(word))"
   ]
  },
  {
   "cell_type": "code",
   "execution_count": 23,
   "metadata": {},
   "outputs": [
    {
     "name": "stdout",
     "output_type": "stream",
     "text": [
      "'разработка' <class 'str'>\n",
      "сокет <class 'str'>\n",
      "декоратор <class 'str'>\n"
     ]
    }
   ],
   "source": [
    "uni_words = ['\\u0027\\u0440\\u0430\\u0437\\u0440\\u0430\\u0431\\u043e\\u0442\\u043a\\u0430\\u0027', '\\u0441\\u043e\\u043a\\u0435\\u0442', '\\u0434\\u0435\\u043a\\u043e\\u0440\\u0430\\u0442\\u043e\\u0440']\n",
    "for i in uni_words:\n",
    "    print(i, type(i))"
   ]
  },
  {
   "cell_type": "code",
   "execution_count": 24,
   "metadata": {},
   "outputs": [
    {
     "name": "stdout",
     "output_type": "stream",
     "text": [
      "b'class' <class 'bytes'> длина = 5\n",
      "b'function' <class 'bytes'> длина = 8\n",
      "b'method' <class 'bytes'> длина = 6\n"
     ]
    }
   ],
   "source": [
    "# task_2\n",
    "b_words = [b'class', b'function', b'method']\n",
    "for i in b_words:\n",
    "    print(i, type(i), f'длина = {len(i)}')"
   ]
  },
  {
   "cell_type": "code",
   "execution_count": 25,
   "metadata": {},
   "outputs": [
    {
     "name": "stdout",
     "output_type": "stream",
     "text": [
      "b'attribute'\n"
     ]
    }
   ],
   "source": [
    "# task_3\n",
    "print(b'attribute')\n",
    "\n",
    "   "
   ]
  },
  {
   "cell_type": "code",
   "execution_count": 17,
   "metadata": {},
   "outputs": [
    {
     "name": "stdout",
     "output_type": "stream",
     "text": [
      "b'type'\n"
     ]
    }
   ],
   "source": [
    "print(b'type')"
   ]
  },
  {
   "cell_type": "code",
   "execution_count": 18,
   "metadata": {},
   "outputs": [
    {
     "ename": "SyntaxError",
     "evalue": "bytes can only contain ASCII literal characters. (<ipython-input-18-a4c022d864ea>, line 1)",
     "output_type": "error",
     "traceback": [
      "\u001b[1;36m  File \u001b[1;32m\"<ipython-input-18-a4c022d864ea>\"\u001b[1;36m, line \u001b[1;32m1\u001b[0m\n\u001b[1;33m    print(b'класс')\u001b[0m\n\u001b[1;37m         ^\u001b[0m\n\u001b[1;31mSyntaxError\u001b[0m\u001b[1;31m:\u001b[0m bytes can only contain ASCII literal characters.\n"
     ]
    }
   ],
   "source": [
    "print(b'класс') "
   ]
  },
  {
   "cell_type": "code",
   "execution_count": 19,
   "metadata": {},
   "outputs": [
    {
     "ename": "SyntaxError",
     "evalue": "bytes can only contain ASCII literal characters. (<ipython-input-19-15378b582bba>, line 1)",
     "output_type": "error",
     "traceback": [
      "\u001b[1;36m  File \u001b[1;32m\"<ipython-input-19-15378b582bba>\"\u001b[1;36m, line \u001b[1;32m1\u001b[0m\n\u001b[1;33m    print(b'функция')\u001b[0m\n\u001b[1;37m         ^\u001b[0m\n\u001b[1;31mSyntaxError\u001b[0m\u001b[1;31m:\u001b[0m bytes can only contain ASCII literal characters.\n"
     ]
    }
   ],
   "source": [
    "print(b'функция') "
   ]
  },
  {
   "cell_type": "code",
   "execution_count": 66,
   "metadata": {},
   "outputs": [
    {
     "name": "stdout",
     "output_type": "stream",
     "text": [
      "b'\\xd1\\x80\\xd0\\xb0\\xd0\\xb7\\xd1\\x80\\xd0\\xb0\\xd0\\xb1\\xd0\\xbe\\xd1\\x82\\xd0\\xba\\xd0\\xb0'\n",
      "b'protocol'\n",
      "b'\\xd0\\xb0\\xd0\\xb4\\xd0\\xbc\\xd0\\xb8\\xd0\\xbd\\xd0\\xb8\\xd1\\x81\\xd1\\x82\\xd1\\x80\\xd0\\xb8\\xd1\\x80\\xd0\\xbe\\xd0\\xb2\\xd0\\xb0\\xd0\\xbd\\xd0\\xb8\\xd0\\xb5\\xc2\\xbb'\n",
      "b'standard'\n"
     ]
    }
   ],
   "source": [
    "# task_4\n",
    "A = ['разработка', 'protocol','администрирование»','standard']\n",
    "for i in A:\n",
    "    word = i.encode()\n",
    "    print(word)\n"
   ]
  },
  {
   "cell_type": "code",
   "execution_count": 81,
   "metadata": {},
   "outputs": [
    {
     "name": "stdout",
     "output_type": "stream",
     "text": [
      "разработка\n",
      "protocol\n",
      "администрирование»\n",
      "standard\n"
     ]
    }
   ],
   "source": [
    "B = [b'\\xd1\\x80\\xd0\\xb0\\xd0\\xb7\\xd1\\x80\\xd0\\xb0\\xd0\\xb1\\xd0\\xbe\\xd1\\x82\\xd0\\xba\\xd0\\xb0',\n",
    "b'protocol',\n",
    "b'\\xd0\\xb0\\xd0\\xb4\\xd0\\xbc\\xd0\\xb8\\xd0\\xbd\\xd0\\xb8\\xd1\\x81\\xd1\\x82\\xd1\\x80\\xd0\\xb8\\xd1\\x80\\xd0\\xbe\\xd0\\xb2\\xd0\\xb0\\xd0\\xbd\\xd0\\xb8\\xd0\\xb5\\xc2\\xbb', \n",
    "b'standard']\n",
    "for i in B:\n",
    "    word = i.decode()\n",
    "    print(word)"
   ]
  },
  {
   "cell_type": "code",
   "execution_count": 89,
   "metadata": {},
   "outputs": [
    {
     "name": "stdout",
     "output_type": "stream",
     "text": [
      "\n",
      "\n",
      "Обмен пакетами с google.com [74.125.131.139] с 32 байтами данных:\n",
      "\n",
      "Ответ от 74.125.131.139: число байт=32 время=5мс TTL=44\n",
      "\n",
      "Ответ от 74.125.131.139: число байт=32 время=4мс TTL=44\n",
      "\n",
      "Ответ от 74.125.131.139: число байт=32 время=5мс TTL=44\n",
      "\n",
      "Ответ от 74.125.131.139: число байт=32 время=5мс TTL=44\n",
      "\n",
      "\n",
      "\n",
      "Статистика Ping для 74.125.131.139:\n",
      "\n",
      "    Пакетов: отправлено = 4, получено = 4, потеряно = 0\n",
      "\n",
      "    (0% потерь)\n",
      "\n",
      "Приблизительное время приема-передачи в мс:\n",
      "\n",
      "    Минимальное = 4мсек, Максимальное = 5 мсек, Среднее = 4 мсек\n",
      "\n"
     ]
    }
   ],
   "source": [
    "# task_5\n",
    "\n",
    "import subprocess\n",
    "\n",
    "args = ['ping', 'google.com']\n",
    "subproc_ping = subprocess.Popen(args, stdout=subprocess.PIPE)\n",
    "for line in subproc_ping.stdout:\n",
    "            line = line.decode('cp866').encode('utf-8')\n",
    "            print(line.decode('utf-8'))"
   ]
  },
  {
   "cell_type": "code",
   "execution_count": 87,
   "metadata": {},
   "outputs": [
    {
     "name": "stdout",
     "output_type": "stream",
     "text": [
      "Success!\n",
      "\n",
      "\n",
      "Обмен пакетами с engtochka.ru [77.222.62.6] с 32 байтами данных:\n",
      "\n",
      "Ответ от 77.222.62.6: число байт=32 время=2мс TTL=57\n",
      "\n",
      "Ответ от 77.222.62.6: число байт=32 время=2мс TTL=57\n",
      "\n",
      "Ответ от 77.222.62.6: число байт=32 время=3мс TTL=57\n",
      "\n",
      "Ответ от 77.222.62.6: число байт=32 время=2мс TTL=57\n",
      "\n",
      "\n",
      "\n",
      "Статистика Ping для 77.222.62.6:\n",
      "\n",
      "    Пакетов: отправлено = 4, получено = 4, потеряно = 0\n",
      "\n",
      "    (0% потерь)\n",
      "\n",
      "Приблизительное время приема-передачи в мс:\n",
      "\n",
      "    Минимальное = 2мсек, Максимальное = 3 мсек, Среднее = 2 мсек\n",
      "\n"
     ]
    }
   ],
   "source": [
    "import subprocess\n",
    "\n",
    "\n",
    "args = ['ping', 'engtochka.ru']\n",
    "subproc_ping = subprocess.Popen(args, stdout=subprocess.PIPE)\n",
    "for line in subproc_ping.stdout:\n",
    "            line = line.decode('cp866').encode('utf-8')\n",
    "            print(line.decode('utf-8'))"
   ]
  },
  {
   "cell_type": "code",
   "execution_count": 93,
   "metadata": {},
   "outputs": [
    {
     "data": {
      "text/plain": [
       "b'Testov?n?'"
      ]
     },
     "execution_count": 93,
     "metadata": {},
     "output_type": "execute_result"
    }
   ],
   "source": [
    "data = 'Testování'\n",
    "bdata = data.encode('ascii', 'replace')\n",
    "bdata"
   ]
  }
 ],
 "metadata": {
  "kernelspec": {
   "display_name": "Python 3",
   "language": "python",
   "name": "python3"
  },
  "language_info": {
   "codemirror_mode": {
    "name": "ipython",
    "version": 3
   },
   "file_extension": ".py",
   "mimetype": "text/x-python",
   "name": "python",
   "nbconvert_exporter": "python",
   "pygments_lexer": "ipython3",
   "version": "3.7.0"
  }
 },
 "nbformat": 4,
 "nbformat_minor": 2
}
