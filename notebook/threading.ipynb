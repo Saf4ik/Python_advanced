{
 "cells": [
  {
   "cell_type": "code",
   "execution_count": 36,
   "metadata": {},
   "outputs": [],
   "source": [
    "import time\n",
    "import threading\n",
    "import multiprocessing"
   ]
  },
  {
   "cell_type": "code",
   "execution_count": 18,
   "metadata": {},
   "outputs": [],
   "source": [
    "def sample(text, num):\n",
    "    for idx in range(1, num+1):\n",
    "        time.sleep(1)\n",
    "        print(f'{text} was called {idx} times')"
   ]
  },
  {
   "cell_type": "code",
   "execution_count": 21,
   "metadata": {},
   "outputs": [],
   "source": [
    "THREADS_NUMBER = 5"
   ]
  },
  {
   "cell_type": "code",
   "execution_count": 19,
   "metadata": {},
   "outputs": [
    {
     "name": "stdout",
     "output_type": "stream",
     "text": [
      "cell-1 was called 1 times\n",
      "cell-1 was called 2 times\n",
      "cell-1 was called 3 times\n",
      "cell-1 was called 4 times\n",
      "cell-1 was called 5 times\n"
     ]
    }
   ],
   "source": [
    "sample('cell-1', 5)"
   ]
  },
  {
   "cell_type": "code",
   "execution_count": 20,
   "metadata": {},
   "outputs": [
    {
     "name": "stdout",
     "output_type": "stream",
     "text": [
      "thread was called 1 timescell-2 was called 1 times\n",
      "\n",
      "thread was called 2 times\n",
      "cell-2 was called 2 times\n",
      "thread was called 3 times\n",
      "cell-2 was called 3 times\n",
      "thread was called 4 timescell-2 was called 4 times\n",
      "\n",
      "cell-2 was called 5 times\n",
      "thread was called 5 times\n",
      "thread was called 6 times\n",
      "thread was called 7 times\n",
      "thread was called 8 times\n",
      "thread was called 9 times\n",
      "thread was called 10 times\n"
     ]
    }
   ],
   "source": [
    "thread = threading.Thread(target=sample, args=('thread', 10))\n",
    "thread.start()\n",
    "\n",
    "sample('cell-2', 5)"
   ]
  },
  {
   "cell_type": "code",
   "execution_count": 26,
   "metadata": {},
   "outputs": [
    {
     "name": "stdout",
     "output_type": "stream",
     "text": [
      "thread-1 was called 1 times\n",
      "thread-2 was called 1 times\n",
      "thread-3 was called 1 times\n",
      "thread-4 was called 1 timesthread-5 was called 1 times\n",
      "\n",
      "thread-1 was called 2 times\n",
      "thread-2 was called 2 times\n",
      "thread-3 was called 2 times\n",
      "thread-5 was called 2 times\n",
      "thread-4 was called 2 times\n",
      "thread-1 was called 3 times\n",
      "thread-2 was called 3 times\n",
      "thread-3 was called 3 times\n",
      "thread-5 was called 3 times\n",
      "thread-4 was called 3 times\n",
      "thread-2 was called 4 timesthread-3 was called 4 times\n",
      "\n",
      "thread-4 was called 4 timesthread-5 was called 4 times\n",
      "\n",
      "thread-3 was called 5 times\n",
      "thread-5 was called 5 timesthread-4 was called 5 times\n",
      "\n",
      "thread-4 was called 6 times\n",
      "thread-5 was called 6 times\n",
      "thread-5 was called 7 times\n"
     ]
    }
   ],
   "source": [
    "for itm in range(THREADS_NUMBER):\n",
    "    num = 3 + itm\n",
    "    text = f'thread-{itm + 1}'\n",
    "    thread = threading.Thread(target=sample, args=(text,num))\n",
    "    thread.start()"
   ]
  },
  {
   "cell_type": "code",
   "execution_count": 34,
   "metadata": {},
   "outputs": [],
   "source": [
    "lock = threading.Lock()\n",
    "\n",
    "def sample(text, num):\n",
    "    for idx in range(1, num+1):\n",
    "        time.sleep(.5)\n",
    "        lock.acquire()\n",
    "        print(f'{text} was called {idx} times')\n",
    "        lock.release()"
   ]
  },
  {
   "cell_type": "code",
   "execution_count": 35,
   "metadata": {},
   "outputs": [
    {
     "name": "stdout",
     "output_type": "stream",
     "text": [
      "thread was called 1 times\n",
      "cell-2 was called 1 times\n",
      "thread was called 2 times\n",
      "cell-2 was called 2 times\n",
      "thread was called 3 times\n",
      "cell-2 was called 3 times\n",
      "thread was called 4 times\n",
      "cell-2 was called 4 times\n",
      "thread was called 5 times\n",
      "cell-2 was called 5 times\n",
      "thread was called 6 times\n",
      "thread was called 7 times\n",
      "thread was called 8 times\n",
      "thread was called 9 times\n",
      "thread was called 10 times\n"
     ]
    }
   ],
   "source": [
    "thread = threading.Thread(target=sample, args=('thread', 10))\n",
    "thread.start()\n",
    "\n",
    "sample('cell-2', 5)"
   ]
  },
  {
   "cell_type": "code",
   "execution_count": 37,
   "metadata": {},
   "outputs": [
    {
     "name": "stdout",
     "output_type": "stream",
     "text": [
      "process was called 1 times\n",
      "process was called 2 times\n",
      "process was called 3 times\n",
      "process was called 4 times\n",
      "process was called 5 times\n",
      "process was called 6 times\n",
      "process was called 7 times\n",
      "process was called 8 times\n",
      "process was called 9 times\n",
      "process was called 10 times\n"
     ]
    }
   ],
   "source": [
    "process = multiprocessing.Process(target=sample, args=('process', 10))\n",
    "process.start()"
   ]
  },
  {
   "cell_type": "code",
   "execution_count": 49,
   "metadata": {},
   "outputs": [],
   "source": [
    "def sample(text):\n",
    "    idx = 10000\n",
    "    while idx:\n",
    "        idx -= 1\n",
    "    print(f'{text} done')"
   ]
  },
  {
   "cell_type": "code",
   "execution_count": 52,
   "metadata": {},
   "outputs": [
    {
     "name": "stdout",
     "output_type": "stream",
     "text": [
      "thread done\n",
      "process done\n"
     ]
    }
   ],
   "source": [
    "process = multiprocessing.Process(target=sample, args=('process',))\n",
    "process.start()\n",
    "\n",
    "thread = threading.Thread(target=sample, args=('thread',))\n",
    "thread.start()"
   ]
  }
 ],
 "metadata": {
  "kernelspec": {
   "display_name": "Python 3",
   "language": "python",
   "name": "python3"
  },
  "language_info": {
   "codemirror_mode": {
    "name": "ipython",
    "version": 3
   },
   "file_extension": ".py",
   "mimetype": "text/x-python",
   "name": "python",
   "nbconvert_exporter": "python",
   "pygments_lexer": "ipython3",
   "version": "3.6.8"
  }
 },
 "nbformat": 4,
 "nbformat_minor": 2
}
