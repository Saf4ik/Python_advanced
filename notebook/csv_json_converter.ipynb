{
 "cells": [
  {
   "cell_type": "code",
   "execution_count": 31,
   "metadata": {},
   "outputs": [
    {
     "name": "stdout",
     "output_type": "stream",
     "text": [
      "Enter file's path: data/write.csv\n",
      "Save as: from_csv.json\n",
      "from_csv.json created\n"
     ]
    }
   ],
   "source": [
    "# task_4\n",
    "\n",
    "import json\n",
    "import csv\n",
    "\n",
    "\n",
    "def csv_json_converter(file_csv):\n",
    "    DATA = []\n",
    "    with open(file_csv, 'r') as file:\n",
    "        reader = csv.DictReader(file)\n",
    "        for row in reader:\n",
    "            DATA.append(row)\n",
    "    write = input('Save as: ')\n",
    "    with open( f'data/lesson_2/{write}', 'w') as file:\n",
    "        json.dump(DATA, file, indent=4)\n",
    "    print(f'{write} created')\n",
    "    \n",
    "\n",
    "file_csv = input(\"Enter file's path: \")\n",
    "csv_json_converter(file_csv)"
   ]
  },
  {
   "cell_type": "code",
   "execution_count": null,
   "metadata": {},
   "outputs": [],
   "source": []
  }
 ],
 "metadata": {
  "kernelspec": {
   "display_name": "Python 3",
   "language": "python",
   "name": "python3"
  },
  "language_info": {
   "codemirror_mode": {
    "name": "ipython",
    "version": 3
   },
   "file_extension": ".py",
   "mimetype": "text/x-python",
   "name": "python",
   "nbconvert_exporter": "python",
   "pygments_lexer": "ipython3",
   "version": "3.7.0"
  }
 },
 "nbformat": 4,
 "nbformat_minor": 2
}
