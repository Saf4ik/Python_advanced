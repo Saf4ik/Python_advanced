{
 "cells": [
  {
   "cell_type": "code",
   "execution_count": 5,
   "metadata": {},
   "outputs": [
    {
     "name": "stdout",
     "output_type": "stream",
     "text": [
      "Hello world!\n",
      "\n",
      "Hello 1world!\n",
      "\n",
      "Hello 2world!\n",
      "\n"
     ]
    }
   ],
   "source": [
    "file = open('data/read.txt')\n",
    "\n",
    "print(file.readline())\n",
    "print(file.readline())\n",
    "print(file.readline())\n",
    "file.close()"
   ]
  },
  {
   "cell_type": "code",
   "execution_count": 9,
   "metadata": {},
   "outputs": [
    {
     "name": "stdout",
     "output_type": "stream",
     "text": [
      "Hello world!\n",
      "Hello 1world!\n",
      "Hello 2world!\n",
      "Hello 3world!\n",
      "Hello 4world!\n",
      "Hello world!\n",
      "Hello 1world!\n",
      "Hello 2world!\n",
      "Hello 3world!\n",
      "Hello 4world!\n",
      "Hello world!\n",
      "Hello 1world!\n",
      "Hello 2world!\n",
      "Hello 3world!\n",
      "Hello 4world!\n"
     ]
    }
   ],
   "source": [
    "file = open('data/read.txt')\n",
    "\n",
    "print(file.read())\n",
    "\n",
    "\n",
    "file.close()"
   ]
  },
  {
   "cell_type": "code",
   "execution_count": 11,
   "metadata": {},
   "outputs": [
    {
     "name": "stdout",
     "output_type": "stream",
     "text": [
      "Hello world!\n",
      "\n",
      "Hello 1world!\n",
      "\n",
      "Hello 2world!\n",
      "\n",
      "Hello 3world!\n",
      "\n",
      "Hello 4world!\n",
      "\n",
      "Hello world!\n",
      "\n",
      "Hello 1world!\n",
      "\n",
      "Hello 2world!\n",
      "\n",
      "Hello 3world!\n",
      "\n",
      "Hello 4world!\n",
      "\n",
      "Hello world!\n",
      "\n",
      "Hello 1world!\n",
      "\n",
      "Hello 2world!\n",
      "\n",
      "Hello 3world!\n",
      "\n",
      "Hello 4world!\n"
     ]
    }
   ],
   "source": [
    "with open('data/read.txt') as file:\n",
    "    for row in file:\n",
    "        print(row)"
   ]
  },
  {
   "cell_type": "code",
   "execution_count": 38,
   "metadata": {},
   "outputs": [],
   "source": [
    "with open('data/write.txt', 'w') as file:\n",
    "    file.write('Some string\\n')"
   ]
  },
  {
   "cell_type": "code",
   "execution_count": 39,
   "metadata": {},
   "outputs": [],
   "source": [
    "with open('data/write.txt', 'a') as file:\n",
    "    file.write('Another text\\n')"
   ]
  },
  {
   "cell_type": "code",
   "execution_count": 20,
   "metadata": {},
   "outputs": [
    {
     "name": "stdout",
     "output_type": "stream",
     "text": [
      "test\n"
     ]
    }
   ],
   "source": [
    "class SampleContextManager:\n",
    "    \n",
    "    def __enter__(self, *args, **kwargs):\n",
    "        return 'test'\n",
    "    \n",
    "    def __exit__(self, err, *args, **kwargs):\n",
    "        pass\n",
    "    \n",
    "with SampleContextManager() as manager:\n",
    "    print(manager)"
   ]
  },
  {
   "cell_type": "code",
   "execution_count": 23,
   "metadata": {},
   "outputs": [
    {
     "name": "stdout",
     "output_type": "stream",
     "text": [
      "Some string\n",
      "Another text\n",
      "\n",
      "Some string\n",
      "Another text\n",
      "Some string\n",
      "\n"
     ]
    }
   ],
   "source": [
    "with open('data/write.txt', 'r+') as file:\n",
    "    print(file.read())\n",
    "    file.writelines(['Some string\\n'])\n",
    "    file.seek(0)\n",
    "    print(file.read())\n"
   ]
  },
  {
   "cell_type": "code",
   "execution_count": 28,
   "metadata": {},
   "outputs": [
    {
     "name": "stdout",
     "output_type": "stream",
     "text": [
      "b'Some string\\r\\nAnother text\\r\\nSome string\\r\\nAbsolutelly another text/nAbsolutelly another text/n'\n",
      "b'Some string\\r\\nAnother text\\r\\nSome string\\r\\nAbsolutelly another text/nAbsolutelly another text/nAbsolutelly another text/n'\n"
     ]
    }
   ],
   "source": [
    "with open('data/write.txt', 'rb+') as file:\n",
    "    print(file.read())\n",
    "    file.writelines([b'Absolutelly another text/n'])\n",
    "    file.seek(0)\n",
    "    print(file.read())"
   ]
  },
  {
   "cell_type": "code",
   "execution_count": 42,
   "metadata": {},
   "outputs": [],
   "source": [
    "import os\n",
    "\n",
    "file_size = os.stat('data/write.txt').st_size\n",
    "file_middle = file_size // 2\n",
    "with open('data/write.txt', 'r+') as file:\n",
    "    file.seek(file_middle)\n",
    "    file.writelines(['\\n\\n\\n\\n'])\n",
    "    "
   ]
  },
  {
   "cell_type": "code",
   "execution_count": 46,
   "metadata": {},
   "outputs": [
    {
     "name": "stdout",
     "output_type": "stream",
     "text": [
      "Some string\n",
      "aver\n",
      "\n",
      "\n",
      "\n",
      "her text/n\n",
      "ÐÐ¸ÑÐ¸Ð»Ð»Ð¸ÑÐ°\n"
     ]
    }
   ],
   "source": [
    "with open('data/write.txt', encoding='latin1') as file:\n",
    "    print(file.read())"
   ]
  },
  {
   "cell_type": "code",
   "execution_count": null,
   "metadata": {},
   "outputs": [],
   "source": []
  },
  {
   "cell_type": "code",
   "execution_count": null,
   "metadata": {},
   "outputs": [],
   "source": []
  }
 ],
 "metadata": {
  "kernelspec": {
   "display_name": "Python 3",
   "language": "python",
   "name": "python3"
  },
  "language_info": {
   "codemirror_mode": {
    "name": "ipython",
    "version": 3
   },
   "file_extension": ".py",
   "mimetype": "text/x-python",
   "name": "python",
   "nbconvert_exporter": "python",
   "pygments_lexer": "ipython3",
   "version": "3.7.0"
  }
 },
 "nbformat": 4,
 "nbformat_minor": 2
}
